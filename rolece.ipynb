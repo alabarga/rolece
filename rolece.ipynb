{
 "cells": [
  {
   "cell_type": "markdown",
   "id": "d2bcf721",
   "metadata": {
    "toc": true
   },
   "source": [
    "<h1>Table of Contents<span class=\"tocSkip\"></span></h1>\n",
    "<div class=\"toc\"><ul class=\"toc-item\"><li><span><a href=\"#Registro-Oficial-de-Licitadores-y-Empresas-Clasificadas-del-Estado\" data-toc-modified-id=\"Registro-Oficial-de-Licitadores-y-Empresas-Clasificadas-del-Estado-1\"><span class=\"toc-item-num\">1&nbsp;&nbsp;</span>Registro Oficial de Licitadores y Empresas Clasificadas del Estado</a></span><ul class=\"toc-item\"><li><span><a href=\"#Hack-Validation-function\" data-toc-modified-id=\"Hack-Validation-function-1.1\"><span class=\"toc-item-num\">1.1&nbsp;&nbsp;</span>Hack Validation function</a></span></li><li><span><a href=\"#Copy-certificates\" data-toc-modified-id=\"Copy-certificates-1.2\"><span class=\"toc-item-num\">1.2&nbsp;&nbsp;</span>Copy certificates</a></span></li><li><span><a href=\"#Get-the-details\" data-toc-modified-id=\"Get-the-details-1.3\"><span class=\"toc-item-num\">1.3&nbsp;&nbsp;</span>Get the details</a></span></li></ul></li></ul></div>"
   ]
  },
  {
   "cell_type": "markdown",
   "id": "4674d156",
   "metadata": {},
   "source": [
    "# Registro Oficial de Licitadores y Empresas Clasificadas del Estado"
   ]
  },
  {
   "cell_type": "markdown",
   "id": "71e47eef",
   "metadata": {},
   "source": [
    "Trying to scrape https://serviciostelematicosext.hacienda.gob.es/DGPE/Contratistas/paginas/ListadoEmpresas.aspx following these hints"
   ]
  },
  {
   "cell_type": "markdown",
   "id": "5689644f",
   "metadata": {},
   "source": [
    "## Hack Validation function\n",
    "\n",
    "AllValidatorsValid = (validators) => true\n",
    "\n",
    "![Validators](https://api.typefully.com/media-p/497b8491-f8ec-428c-a42b-f253bcea134e/)\n",
    "\n",
    "\n",
    "## Copy certificates\n",
    "\n",
    "\n",
    "Max retries exceeded with url: xxxxxxxx (Caused by SSLError(SSLCertVerificationError(1, '[SSL: CERTIFICATE_VERIFY_FAILED]\n",
    "\n",
    "certificate verify failed: unable to get local issuer certificate (_ssl.c:1045)')))\n",
    "\n",
    "cp hacienda-gob-es-chain.pem lib/python3.7/site-packages/certifi/cacert.pem\n",
    "\n"
   ]
  },
  {
   "cell_type": "code",
   "execution_count": 26,
   "id": "03f44ab4",
   "metadata": {},
   "outputs": [],
   "source": [
    "import certifi"
   ]
  },
  {
   "cell_type": "code",
   "execution_count": null,
   "id": "bef1af9b",
   "metadata": {},
   "outputs": [],
   "source": [
    "certifi.where()"
   ]
  },
  {
   "cell_type": "code",
   "execution_count": 50,
   "id": "707913ee",
   "metadata": {},
   "outputs": [],
   "source": [
    "_blank = '\\u2800'"
   ]
  },
  {
   "cell_type": "markdown",
   "id": "96e8cf16",
   "metadata": {},
   "source": [
    "## Get the details"
   ]
  },
  {
   "cell_type": "code",
   "execution_count": 25,
   "id": "0f77d6e9",
   "metadata": {},
   "outputs": [],
   "source": [
    "import requests"
   ]
  },
  {
   "cell_type": "code",
   "execution_count": 57,
   "id": "75127953",
   "metadata": {},
   "outputs": [],
   "source": [
    "cookies = {\n",
    "    'ASP.NET_SessionId': 'yrfbuhfaoxeetgba1v101qwo'\n",
    "}"
   ]
  },
  {
   "cell_type": "code",
   "execution_count": 81,
   "id": "8353080e",
   "metadata": {},
   "outputs": [],
   "source": [
    "headers = {\n",
    "    'User-Agent' : 'Mozilla/5.0 (X11; Ubuntu; Linux x86_64; rv:98.0) Gecko/20100101 Firefox/98.0',\n",
    "    'Accept': 'application/json, text/javascript, */*; q=0.01', \n",
    "    'Referer': 'https://serviciostelematicosext.hacienda.gob.es/DGPE/Contratistas/paginas/ListadoEmpresas.aspx',\n",
    "    'X-Requested-With':'XMLHttpRequest',\n",
    "    'Sec-Fetch-Dest': 'empty',\n",
    "    'Sec-Fetch-Mode': 'cors',\n",
    "    'Sec-Fetch-Site':'same-origin',\n",
    "    'Cookie': 'ASP.NET_SessionId=yrfbuhfaoxeetgba1v101qwo',\n",
    "    'Connection': 'keep-alive',\n",
    "    'Accept-Encoding': 'gzip, deflate, br',\n",
    "    'Accept-Language': 'es-ES,es;q=0.8,en-US;q=0.5,en;q=0.3',\n",
    "    'Content-Type': 'application/json; charset=utf-8'\n",
    "}"
   ]
  },
  {
   "cell_type": "code",
   "execution_count": 90,
   "id": "5ab61efe",
   "metadata": {},
   "outputs": [],
   "source": [
    "import json"
   ]
  },
  {
   "cell_type": "code",
   "execution_count": 99,
   "id": "ce198973",
   "metadata": {},
   "outputs": [],
   "source": [
    "import time"
   ]
  },
  {
   "cell_type": "code",
   "execution_count": 103,
   "id": "02d192e0",
   "metadata": {},
   "outputs": [],
   "source": [
    "from tqdm import tqdm"
   ]
  },
  {
   "cell_type": "code",
   "execution_count": 119,
   "id": "8b6d3e32",
   "metadata": {},
   "outputs": [],
   "source": [
    "lista = []"
   ]
  },
  {
   "cell_type": "code",
   "execution_count": 170,
   "id": "cb43bb6a",
   "metadata": {},
   "outputs": [
    {
     "name": "stderr",
     "output_type": "stream",
     "text": [
      "100%|█████████████████████████████████████████████| 1/1 [00:05<00:00,  5.95s/it]\n"
     ]
    }
   ],
   "source": [
    "for page in tqdm(range(0,109)):\n",
    "    url = f'https://serviciostelematicosext.hacienda.gob.es/DGPE/Contratistas/paginas/VerEmpresas.aspx/GetTableData?sEcho={page}&iColumns=7&sColumns=,,,,,,&iDisplayStart={page*100}&iDisplayLength=100&mDataProp_0=IdentificacionFiscal&sSearch_0=&bRegex_0=false&bSearchable_0=true&bSortable_0=true&mDataProp_1=NumExpediente&sSearch_1=&bRegex_1=false&bSearchable_1=true&bSortable_1=true&mDataProp_2=NombreEmpresa&sSearch_2=&bRegex_2=false&bSearchable_2=true&bSortable_2=true&mDataProp_3=TipoDeContrato&sSearch_3=&bRegex_3=false&bSearchable_3=true&bSortable_3=true&mDataProp_4=Provincia&sSearch_4=&bRegex_4=false&bSearchable_4=true&bSortable_4=true&mDataProp_5=Municipio&sSearch_5=&bRegex_5=false&bSearchable_5=true&bSortable_5=true&mDataProp_6=Pais&sSearch_6=&bRegex_6=false&bSearchable_6=true&bSortable_6=true&sSearch=&bRegex=false&iSortCol_0=0&sSortDir_0=asc&iSortingCols=1&_=1647809862691'\n",
    "    resp = requests.get(url, headers=headers, cookies=cookies)\n",
    "    details = json.loads(resp.json()['d'])\n",
    "    lista.extend(details['aaData'])\n",
    "    time.sleep(5)\n",
    "    "
   ]
  },
  {
   "cell_type": "code",
   "execution_count": 171,
   "id": "961f5c06",
   "metadata": {},
   "outputs": [
    {
     "data": {
      "text/plain": [
       "10749"
      ]
     },
     "execution_count": 171,
     "metadata": {},
     "output_type": "execute_result"
    }
   ],
   "source": [
    "len(lista)"
   ]
  },
  {
   "cell_type": "code",
   "execution_count": 163,
   "id": "290fdf1d",
   "metadata": {},
   "outputs": [],
   "source": [
    "import pandas as pd"
   ]
  },
  {
   "cell_type": "code",
   "execution_count": 173,
   "id": "4741a898",
   "metadata": {},
   "outputs": [],
   "source": [
    "df = pd.DataFrame(lista)"
   ]
  },
  {
   "cell_type": "code",
   "execution_count": 176,
   "id": "392a6f58",
   "metadata": {},
   "outputs": [
    {
     "data": {
      "text/html": [
       "<div>\n",
       "<style scoped>\n",
       "    .dataframe tbody tr th:only-of-type {\n",
       "        vertical-align: middle;\n",
       "    }\n",
       "\n",
       "    .dataframe tbody tr th {\n",
       "        vertical-align: top;\n",
       "    }\n",
       "\n",
       "    .dataframe thead th {\n",
       "        text-align: right;\n",
       "    }\n",
       "</style>\n",
       "<table border=\"1\" class=\"dataframe\">\n",
       "  <thead>\n",
       "    <tr style=\"text-align: right;\">\n",
       "      <th></th>\n",
       "      <th>NumExpediente</th>\n",
       "      <th>IdentificacionFiscal</th>\n",
       "      <th>NombreEmpresa</th>\n",
       "      <th>TipoDeContrato</th>\n",
       "      <th>Municipio</th>\n",
       "      <th>Provincia</th>\n",
       "      <th>Pais</th>\n",
       "      <th>DT_RowId</th>\n",
       "    </tr>\n",
       "  </thead>\n",
       "  <tbody>\n",
       "    <tr>\n",
       "      <th>0</th>\n",
       "      <td>73663</td>\n",
       "      <td>28742721N</td>\n",
       "      <td>GUERRA VALLES, MANUEL</td>\n",
       "      <td>Servicios</td>\n",
       "      <td>SEVILLA</td>\n",
       "      <td>SEVILLA</td>\n",
       "      <td>ESPAÑA</td>\n",
       "      <td>9PS-wttHNc_85EKevyPxJw..</td>\n",
       "    </tr>\n",
       "    <tr>\n",
       "      <th>1</th>\n",
       "      <td>77734</td>\n",
       "      <td>28854586M</td>\n",
       "      <td>RODRIGUEZ CARDENAS, ELENA</td>\n",
       "      <td>Servicios</td>\n",
       "      <td>SEVILLA</td>\n",
       "      <td>SEVILLA</td>\n",
       "      <td>ESPAÑA</td>\n",
       "      <td>-vVVxSaOuys1-6chwKgLZA..</td>\n",
       "    </tr>\n",
       "    <tr>\n",
       "      <th>2</th>\n",
       "      <td>42462</td>\n",
       "      <td>28952304L</td>\n",
       "      <td>MARTIN HERNANDEZ, VICTOR MANUEL</td>\n",
       "      <td>Obras</td>\n",
       "      <td>CALZADILLA</td>\n",
       "      <td>CACERES</td>\n",
       "      <td>ESPAÑA</td>\n",
       "      <td>eA_8dUDr-1rRGGIADRxTIg..</td>\n",
       "    </tr>\n",
       "    <tr>\n",
       "      <th>3</th>\n",
       "      <td>80287</td>\n",
       "      <td>28954010T</td>\n",
       "      <td>MONTERO LOPEZ, JOSE LUIS</td>\n",
       "      <td>Servicios</td>\n",
       "      <td>TORREJONCILLO</td>\n",
       "      <td>CACERES</td>\n",
       "      <td>ESPAÑA</td>\n",
       "      <td>Cy-GWaPsq7_r3wUpXR9o2A..</td>\n",
       "    </tr>\n",
       "    <tr>\n",
       "      <th>4</th>\n",
       "      <td>65384</td>\n",
       "      <td>29012357L</td>\n",
       "      <td>GOMEZ MURCIA, SANTIAGO</td>\n",
       "      <td>Servicios</td>\n",
       "      <td>PILAR DE LA HORADADA</td>\n",
       "      <td>ALICANTE</td>\n",
       "      <td>ESPAÑA</td>\n",
       "      <td>5yDzJmA3ukHgsPlXCHwQ0w..</td>\n",
       "    </tr>\n",
       "  </tbody>\n",
       "</table>\n",
       "</div>"
      ],
      "text/plain": [
       "  NumExpediente IdentificacionFiscal                    NombreEmpresa  \\\n",
       "0         73663            28742721N            GUERRA VALLES, MANUEL   \n",
       "1         77734            28854586M        RODRIGUEZ CARDENAS, ELENA   \n",
       "2         42462            28952304L  MARTIN HERNANDEZ, VICTOR MANUEL   \n",
       "3         80287            28954010T         MONTERO LOPEZ, JOSE LUIS   \n",
       "4         65384            29012357L           GOMEZ MURCIA, SANTIAGO   \n",
       "\n",
       "  TipoDeContrato             Municipio Provincia    Pais  \\\n",
       "0      Servicios               SEVILLA   SEVILLA  ESPAÑA   \n",
       "1      Servicios               SEVILLA   SEVILLA  ESPAÑA   \n",
       "2          Obras            CALZADILLA   CACERES  ESPAÑA   \n",
       "3      Servicios         TORREJONCILLO   CACERES  ESPAÑA   \n",
       "4      Servicios  PILAR DE LA HORADADA  ALICANTE  ESPAÑA   \n",
       "\n",
       "                   DT_RowId  \n",
       "0  9PS-wttHNc_85EKevyPxJw..  \n",
       "1  -vVVxSaOuys1-6chwKgLZA..  \n",
       "2  eA_8dUDr-1rRGGIADRxTIg..  \n",
       "3  Cy-GWaPsq7_r3wUpXR9o2A..  \n",
       "4  5yDzJmA3ukHgsPlXCHwQ0w..  "
      ]
     },
     "execution_count": 176,
     "metadata": {},
     "output_type": "execute_result"
    }
   ],
   "source": [
    "df.head()"
   ]
  },
  {
   "cell_type": "code",
   "execution_count": 126,
   "id": "d51f5757",
   "metadata": {},
   "outputs": [],
   "source": [
    "def exp_url(exp):\n",
    "    return f'https://serviciostelematicosext.hacienda.gob.es/DGPE/Contratistas/paginas/VerExpediente.aspx?Token={exp}'"
   ]
  },
  {
   "cell_type": "code",
   "execution_count": 178,
   "id": "d15acb9e",
   "metadata": {},
   "outputs": [],
   "source": [
    "df['url'] = df.DT_RowId.apply(exp_url)"
   ]
  },
  {
   "cell_type": "code",
   "execution_count": 179,
   "id": "03329bc6",
   "metadata": {},
   "outputs": [],
   "source": [
    "df.to_csv('rolece_20220320.csv', index=False)"
   ]
  },
  {
   "cell_type": "code",
   "execution_count": 155,
   "id": "5caa2714",
   "metadata": {},
   "outputs": [
    {
     "data": {
      "text/plain": [
       "MADRID                  2040\n",
       "BARCELONA                626\n",
       "SEVILLA                  472\n",
       "A CORUÑA                 453\n",
       "VALENCIA                 435\n",
       "MURCIA                   377\n",
       "MALAGA                   335\n",
       "ASTURIAS                 331\n",
       "ALICANTE                 300\n",
       "GRANADA                  275\n",
       "ZARAGOZA                 268\n",
       "ALMERIA                  245\n",
       "PONTEVEDRA               241\n",
       "VIZCAYA                  233\n",
       "CACERES                  206\n",
       "BADAJOZ                  183\n",
       "CADIZ                    173\n",
       "PALMAS, LAS              169\n",
       "CORDOBA                  162\n",
       "CANTABRIA                158\n",
       "CIUDAD REAL              156\n",
       "JAEN                     154\n",
       "LEON                     152\n",
       "VALLADOLID               150\n",
       "BALEARES                 146\n",
       "STA.CRUZ DE TENERIFE     146\n",
       "LUGO                     124\n",
       "OURENSE                  121\n",
       "BURGOS                   120\n",
       "TARRAGONA                120\n",
       "TOLEDO                   117\n",
       "CASTELLON                112\n",
       "HUESCA                   106\n",
       "RIOJA, LA                106\n",
       "GIRONA                   105\n",
       "GUIPUZCOA                104\n",
       "ALBACETE                 104\n",
       "LLEIDA                    99\n",
       "SALAMANCA                 94\n",
       "NAVARRA                   86\n",
       "HUELVA                    84\n",
       "ALAVA                     67\n",
       "TERUEL                    60\n",
       "CUENCA                    56\n",
       "GUADALAJARA               46\n",
       "PALENCIA                  43\n",
       "ZAMORA                    42\n",
       "SORIA                     38\n",
       "SEGOVIA                   33\n",
       "AVILA                     30\n",
       "MELILLA                   22\n",
       "CEUTA                     22\n",
       "Name: Provincia, dtype: int64"
      ]
     },
     "execution_count": 155,
     "metadata": {},
     "output_type": "execute_result"
    }
   ],
   "source": [
    "df.Provincia.value_counts()"
   ]
  },
  {
   "cell_type": "code",
   "execution_count": null,
   "id": "a52e8be2",
   "metadata": {},
   "outputs": [],
   "source": []
  }
 ],
 "metadata": {
  "kernelspec": {
   "display_name": "Ironhack",
   "language": "python",
   "name": "ironhack"
  },
  "language_info": {
   "codemirror_mode": {
    "name": "ipython",
    "version": 3
   },
   "file_extension": ".py",
   "mimetype": "text/x-python",
   "name": "python",
   "nbconvert_exporter": "python",
   "pygments_lexer": "ipython3",
   "version": "3.7.3"
  },
  "toc": {
   "base_numbering": 1,
   "nav_menu": {},
   "number_sections": true,
   "sideBar": true,
   "skip_h1_title": false,
   "title_cell": "Table of Contents",
   "title_sidebar": "Contents",
   "toc_cell": true,
   "toc_position": {},
   "toc_section_display": true,
   "toc_window_display": false
  },
  "varInspector": {
   "cols": {
    "lenName": 16,
    "lenType": 16,
    "lenVar": 40
   },
   "kernels_config": {
    "python": {
     "delete_cmd_postfix": "",
     "delete_cmd_prefix": "del ",
     "library": "var_list.py",
     "varRefreshCmd": "print(var_dic_list())"
    },
    "r": {
     "delete_cmd_postfix": ") ",
     "delete_cmd_prefix": "rm(",
     "library": "var_list.r",
     "varRefreshCmd": "cat(var_dic_list()) "
    }
   },
   "types_to_exclude": [
    "module",
    "function",
    "builtin_function_or_method",
    "instance",
    "_Feature"
   ],
   "window_display": false
  }
 },
 "nbformat": 4,
 "nbformat_minor": 5
}
